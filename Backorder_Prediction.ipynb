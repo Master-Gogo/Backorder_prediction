{
 "cells": [
  {
   "cell_type": "code",
   "execution_count": 105,
   "metadata": {},
   "outputs": [],
   "source": [
    "import pandas as pd\n",
    "import numpy as np\n",
    "import matplotlib.pyplot as plt"
   ]
  },
  {
   "cell_type": "code",
   "execution_count": 2,
   "metadata": {},
   "outputs": [],
   "source": [
    "# loading the data\n",
    "data = pd.read_csv(\"back_order.csv\")"
   ]
  },
  {
   "cell_type": "code",
   "execution_count": 3,
   "metadata": {},
   "outputs": [
    {
     "data": {
      "text/html": [
       "<div>\n",
       "<style scoped>\n",
       "    .dataframe tbody tr th:only-of-type {\n",
       "        vertical-align: middle;\n",
       "    }\n",
       "\n",
       "    .dataframe tbody tr th {\n",
       "        vertical-align: top;\n",
       "    }\n",
       "\n",
       "    .dataframe thead th {\n",
       "        text-align: right;\n",
       "    }\n",
       "</style>\n",
       "<table border=\"1\" class=\"dataframe\">\n",
       "  <thead>\n",
       "    <tr style=\"text-align: right;\">\n",
       "      <th></th>\n",
       "      <th>Unnamed: 0</th>\n",
       "      <th>sku</th>\n",
       "      <th>national_inv</th>\n",
       "      <th>lead_time</th>\n",
       "      <th>in_transit_qty</th>\n",
       "      <th>forecast_3_month</th>\n",
       "      <th>forecast_6_month</th>\n",
       "      <th>forecast_9_month</th>\n",
       "      <th>sales_1_month</th>\n",
       "      <th>sales_3_month</th>\n",
       "      <th>...</th>\n",
       "      <th>pieces_past_due</th>\n",
       "      <th>perf_6_month_avg</th>\n",
       "      <th>perf_12_month_avg</th>\n",
       "      <th>local_bo_qty</th>\n",
       "      <th>deck_risk</th>\n",
       "      <th>oe_constraint</th>\n",
       "      <th>ppap_risk</th>\n",
       "      <th>stop_auto_buy</th>\n",
       "      <th>rev_stop</th>\n",
       "      <th>went_on_backorder</th>\n",
       "    </tr>\n",
       "  </thead>\n",
       "  <tbody>\n",
       "    <tr>\n",
       "      <td>0</td>\n",
       "      <td>0</td>\n",
       "      <td>3352105</td>\n",
       "      <td>0.0</td>\n",
       "      <td>NaN</td>\n",
       "      <td>0.0</td>\n",
       "      <td>0.0</td>\n",
       "      <td>0.0</td>\n",
       "      <td>0.0</td>\n",
       "      <td>0.0</td>\n",
       "      <td>0.0</td>\n",
       "      <td>...</td>\n",
       "      <td>0.0</td>\n",
       "      <td>-99.00</td>\n",
       "      <td>-99.00</td>\n",
       "      <td>0.0</td>\n",
       "      <td>No</td>\n",
       "      <td>No</td>\n",
       "      <td>No</td>\n",
       "      <td>Yes</td>\n",
       "      <td>No</td>\n",
       "      <td>Yes</td>\n",
       "    </tr>\n",
       "    <tr>\n",
       "      <td>1</td>\n",
       "      <td>1</td>\n",
       "      <td>3403239</td>\n",
       "      <td>6.0</td>\n",
       "      <td>NaN</td>\n",
       "      <td>0.0</td>\n",
       "      <td>0.0</td>\n",
       "      <td>0.0</td>\n",
       "      <td>0.0</td>\n",
       "      <td>0.0</td>\n",
       "      <td>0.0</td>\n",
       "      <td>...</td>\n",
       "      <td>0.0</td>\n",
       "      <td>-99.00</td>\n",
       "      <td>-99.00</td>\n",
       "      <td>0.0</td>\n",
       "      <td>No</td>\n",
       "      <td>No</td>\n",
       "      <td>No</td>\n",
       "      <td>Yes</td>\n",
       "      <td>No</td>\n",
       "      <td>Yes</td>\n",
       "    </tr>\n",
       "    <tr>\n",
       "      <td>2</td>\n",
       "      <td>2</td>\n",
       "      <td>3286560</td>\n",
       "      <td>0.0</td>\n",
       "      <td>2.0</td>\n",
       "      <td>0.0</td>\n",
       "      <td>4.0</td>\n",
       "      <td>7.0</td>\n",
       "      <td>7.0</td>\n",
       "      <td>0.0</td>\n",
       "      <td>0.0</td>\n",
       "      <td>...</td>\n",
       "      <td>0.0</td>\n",
       "      <td>0.70</td>\n",
       "      <td>0.73</td>\n",
       "      <td>0.0</td>\n",
       "      <td>No</td>\n",
       "      <td>No</td>\n",
       "      <td>No</td>\n",
       "      <td>Yes</td>\n",
       "      <td>No</td>\n",
       "      <td>Yes</td>\n",
       "    </tr>\n",
       "    <tr>\n",
       "      <td>3</td>\n",
       "      <td>3</td>\n",
       "      <td>3299078</td>\n",
       "      <td>7.0</td>\n",
       "      <td>8.0</td>\n",
       "      <td>0.0</td>\n",
       "      <td>11.0</td>\n",
       "      <td>27.0</td>\n",
       "      <td>47.0</td>\n",
       "      <td>2.0</td>\n",
       "      <td>2.0</td>\n",
       "      <td>...</td>\n",
       "      <td>0.0</td>\n",
       "      <td>0.70</td>\n",
       "      <td>0.73</td>\n",
       "      <td>0.0</td>\n",
       "      <td>No</td>\n",
       "      <td>No</td>\n",
       "      <td>No</td>\n",
       "      <td>Yes</td>\n",
       "      <td>No</td>\n",
       "      <td>Yes</td>\n",
       "    </tr>\n",
       "    <tr>\n",
       "      <td>4</td>\n",
       "      <td>4</td>\n",
       "      <td>3314098</td>\n",
       "      <td>0.0</td>\n",
       "      <td>8.0</td>\n",
       "      <td>0.0</td>\n",
       "      <td>9.0</td>\n",
       "      <td>14.0</td>\n",
       "      <td>16.0</td>\n",
       "      <td>0.0</td>\n",
       "      <td>0.0</td>\n",
       "      <td>...</td>\n",
       "      <td>0.0</td>\n",
       "      <td>0.95</td>\n",
       "      <td>0.94</td>\n",
       "      <td>0.0</td>\n",
       "      <td>No</td>\n",
       "      <td>No</td>\n",
       "      <td>No</td>\n",
       "      <td>Yes</td>\n",
       "      <td>No</td>\n",
       "      <td>Yes</td>\n",
       "    </tr>\n",
       "  </tbody>\n",
       "</table>\n",
       "<p>5 rows × 24 columns</p>\n",
       "</div>"
      ],
      "text/plain": [
       "   Unnamed: 0      sku  national_inv  lead_time  in_transit_qty  \\\n",
       "0           0  3352105           0.0        NaN             0.0   \n",
       "1           1  3403239           6.0        NaN             0.0   \n",
       "2           2  3286560           0.0        2.0             0.0   \n",
       "3           3  3299078           7.0        8.0             0.0   \n",
       "4           4  3314098           0.0        8.0             0.0   \n",
       "\n",
       "   forecast_3_month  forecast_6_month  forecast_9_month  sales_1_month  \\\n",
       "0               0.0               0.0               0.0            0.0   \n",
       "1               0.0               0.0               0.0            0.0   \n",
       "2               4.0               7.0               7.0            0.0   \n",
       "3              11.0              27.0              47.0            2.0   \n",
       "4               9.0              14.0              16.0            0.0   \n",
       "\n",
       "   sales_3_month  ...  pieces_past_due  perf_6_month_avg  perf_12_month_avg  \\\n",
       "0            0.0  ...              0.0            -99.00             -99.00   \n",
       "1            0.0  ...              0.0            -99.00             -99.00   \n",
       "2            0.0  ...              0.0              0.70               0.73   \n",
       "3            2.0  ...              0.0              0.70               0.73   \n",
       "4            0.0  ...              0.0              0.95               0.94   \n",
       "\n",
       "  local_bo_qty  deck_risk  oe_constraint  ppap_risk  stop_auto_buy rev_stop  \\\n",
       "0          0.0         No             No         No            Yes       No   \n",
       "1          0.0         No             No         No            Yes       No   \n",
       "2          0.0         No             No         No            Yes       No   \n",
       "3          0.0         No             No         No            Yes       No   \n",
       "4          0.0         No             No         No            Yes       No   \n",
       "\n",
       "  went_on_backorder  \n",
       "0               Yes  \n",
       "1               Yes  \n",
       "2               Yes  \n",
       "3               Yes  \n",
       "4               Yes  \n",
       "\n",
       "[5 rows x 24 columns]"
      ]
     },
     "execution_count": 3,
     "metadata": {},
     "output_type": "execute_result"
    }
   ],
   "source": [
    "data.head()"
   ]
  },
  {
   "cell_type": "code",
   "execution_count": 4,
   "metadata": {},
   "outputs": [],
   "source": [
    "# droping first two columns\n",
    "data=data.drop(['Unnamed: 0','sku'], axis=1)"
   ]
  },
  {
   "cell_type": "code",
   "execution_count": 5,
   "metadata": {},
   "outputs": [],
   "source": [
    "backorder=data.copy()"
   ]
  },
  {
   "cell_type": "code",
   "execution_count": 6,
   "metadata": {},
   "outputs": [
    {
     "name": "stdout",
     "output_type": "stream",
     "text": [
      "<class 'pandas.core.frame.DataFrame'>\n",
      "RangeIndex: 9688 entries, 0 to 9687\n",
      "Data columns (total 22 columns):\n",
      "national_inv         9688 non-null float64\n",
      "lead_time            8473 non-null float64\n",
      "in_transit_qty       9688 non-null float64\n",
      "forecast_3_month     9688 non-null float64\n",
      "forecast_6_month     9688 non-null float64\n",
      "forecast_9_month     9688 non-null float64\n",
      "sales_1_month        9688 non-null float64\n",
      "sales_3_month        9688 non-null float64\n",
      "sales_6_month        9688 non-null float64\n",
      "sales_9_month        9688 non-null float64\n",
      "min_bank             9688 non-null float64\n",
      "potential_issue      9688 non-null object\n",
      "pieces_past_due      9688 non-null float64\n",
      "perf_6_month_avg     9688 non-null float64\n",
      "perf_12_month_avg    9688 non-null float64\n",
      "local_bo_qty         9688 non-null float64\n",
      "deck_risk            9688 non-null object\n",
      "oe_constraint        9688 non-null object\n",
      "ppap_risk            9688 non-null object\n",
      "stop_auto_buy        9688 non-null object\n",
      "rev_stop             9688 non-null object\n",
      "went_on_backorder    9688 non-null object\n",
      "dtypes: float64(15), object(7)\n",
      "memory usage: 1.6+ MB\n"
     ]
    }
   ],
   "source": [
    "backorder.info()"
   ]
  },
  {
   "cell_type": "code",
   "execution_count": 7,
   "metadata": {},
   "outputs": [
    {
     "data": {
      "text/plain": [
       "national_inv            0\n",
       "lead_time            1215\n",
       "in_transit_qty          0\n",
       "forecast_3_month        0\n",
       "forecast_6_month        0\n",
       "forecast_9_month        0\n",
       "sales_1_month           0\n",
       "sales_3_month           0\n",
       "sales_6_month           0\n",
       "sales_9_month           0\n",
       "min_bank                0\n",
       "potential_issue         0\n",
       "pieces_past_due         0\n",
       "perf_6_month_avg        0\n",
       "perf_12_month_avg       0\n",
       "local_bo_qty            0\n",
       "deck_risk               0\n",
       "oe_constraint           0\n",
       "ppap_risk               0\n",
       "stop_auto_buy           0\n",
       "rev_stop                0\n",
       "went_on_backorder       0\n",
       "dtype: int64"
      ]
     },
     "execution_count": 7,
     "metadata": {},
     "output_type": "execute_result"
    }
   ],
   "source": [
    "#Cheacking null values\n",
    "backorder.isnull().sum()"
   ]
  },
  {
   "cell_type": "code",
   "execution_count": 8,
   "metadata": {},
   "outputs": [],
   "source": [
    "# filling the null value with median\n",
    "mean=backorder['lead_time'].median()\n",
    "backorder['lead_time'].fillna(mean,inplace=True)\n"
   ]
  },
  {
   "cell_type": "code",
   "execution_count": 11,
   "metadata": {},
   "outputs": [
    {
     "name": "stdout",
     "output_type": "stream",
     "text": [
      "national_inv     1096\n",
      "lead_time     24\n",
      "in_transit_qty     472\n",
      "forecast_3_month     990\n",
      "forecast_6_month     1246\n",
      "forecast_9_month     1421\n",
      "sales_1_month     609\n",
      "sales_3_month     1008\n",
      "sales_6_month     1317\n",
      "sales_9_month     1501\n",
      "min_bank     581\n",
      "potential_issue     2\n",
      "pieces_past_due     290\n",
      "perf_6_month_avg     101\n",
      "perf_12_month_avg     102\n",
      "local_bo_qty     90\n",
      "deck_risk     2\n",
      "oe_constraint     2\n",
      "ppap_risk     2\n",
      "stop_auto_buy     2\n",
      "rev_stop     2\n",
      "went_on_backorder     2\n"
     ]
    }
   ],
   "source": [
    "# cheacking the column name having 2 unique value\n",
    "for i in backorder.columns:\n",
    "    size=len(np.unique(backorder[i].values))\n",
    "    print(i,\"   \",size)\n",
    "   "
   ]
  },
  {
   "cell_type": "code",
   "execution_count": 12,
   "metadata": {},
   "outputs": [],
   "source": [
    "#  dividing data\n",
    "X=backorder.drop('went_on_backorder',axis=1)\n",
    "y=backorder['went_on_backorder']"
   ]
  },
  {
   "cell_type": "code",
   "execution_count": 19,
   "metadata": {},
   "outputs": [],
   "source": [
    "categorical=[]\n",
    "for i in X.columns:\n",
    "    size=len(np.unique(X[i].values))\n",
    "    if size==2:\n",
    "        categorical.append(i)"
   ]
  },
  {
   "cell_type": "code",
   "execution_count": 21,
   "metadata": {},
   "outputs": [],
   "source": [
    "X_inputs=pd.get_dummies(X,columns=categorical,drop_first=True)"
   ]
  },
  {
   "cell_type": "code",
   "execution_count": 22,
   "metadata": {},
   "outputs": [
    {
     "data": {
      "text/html": [
       "<div>\n",
       "<style scoped>\n",
       "    .dataframe tbody tr th:only-of-type {\n",
       "        vertical-align: middle;\n",
       "    }\n",
       "\n",
       "    .dataframe tbody tr th {\n",
       "        vertical-align: top;\n",
       "    }\n",
       "\n",
       "    .dataframe thead th {\n",
       "        text-align: right;\n",
       "    }\n",
       "</style>\n",
       "<table border=\"1\" class=\"dataframe\">\n",
       "  <thead>\n",
       "    <tr style=\"text-align: right;\">\n",
       "      <th></th>\n",
       "      <th>national_inv</th>\n",
       "      <th>lead_time</th>\n",
       "      <th>in_transit_qty</th>\n",
       "      <th>forecast_3_month</th>\n",
       "      <th>forecast_6_month</th>\n",
       "      <th>forecast_9_month</th>\n",
       "      <th>sales_1_month</th>\n",
       "      <th>sales_3_month</th>\n",
       "      <th>sales_6_month</th>\n",
       "      <th>sales_9_month</th>\n",
       "      <th>...</th>\n",
       "      <th>pieces_past_due</th>\n",
       "      <th>perf_6_month_avg</th>\n",
       "      <th>perf_12_month_avg</th>\n",
       "      <th>local_bo_qty</th>\n",
       "      <th>potential_issue_Yes</th>\n",
       "      <th>deck_risk_Yes</th>\n",
       "      <th>oe_constraint_Yes</th>\n",
       "      <th>ppap_risk_Yes</th>\n",
       "      <th>stop_auto_buy_Yes</th>\n",
       "      <th>rev_stop_Yes</th>\n",
       "    </tr>\n",
       "  </thead>\n",
       "  <tbody>\n",
       "    <tr>\n",
       "      <td>0</td>\n",
       "      <td>0.0</td>\n",
       "      <td>8.0</td>\n",
       "      <td>0.0</td>\n",
       "      <td>0.0</td>\n",
       "      <td>0.0</td>\n",
       "      <td>0.0</td>\n",
       "      <td>0.0</td>\n",
       "      <td>0.0</td>\n",
       "      <td>0.0</td>\n",
       "      <td>0.0</td>\n",
       "      <td>...</td>\n",
       "      <td>0.0</td>\n",
       "      <td>-99.00</td>\n",
       "      <td>-99.00</td>\n",
       "      <td>0.0</td>\n",
       "      <td>0</td>\n",
       "      <td>0</td>\n",
       "      <td>0</td>\n",
       "      <td>0</td>\n",
       "      <td>1</td>\n",
       "      <td>0</td>\n",
       "    </tr>\n",
       "    <tr>\n",
       "      <td>1</td>\n",
       "      <td>6.0</td>\n",
       "      <td>8.0</td>\n",
       "      <td>0.0</td>\n",
       "      <td>0.0</td>\n",
       "      <td>0.0</td>\n",
       "      <td>0.0</td>\n",
       "      <td>0.0</td>\n",
       "      <td>0.0</td>\n",
       "      <td>0.0</td>\n",
       "      <td>0.0</td>\n",
       "      <td>...</td>\n",
       "      <td>0.0</td>\n",
       "      <td>-99.00</td>\n",
       "      <td>-99.00</td>\n",
       "      <td>0.0</td>\n",
       "      <td>0</td>\n",
       "      <td>0</td>\n",
       "      <td>0</td>\n",
       "      <td>0</td>\n",
       "      <td>1</td>\n",
       "      <td>0</td>\n",
       "    </tr>\n",
       "    <tr>\n",
       "      <td>2</td>\n",
       "      <td>0.0</td>\n",
       "      <td>2.0</td>\n",
       "      <td>0.0</td>\n",
       "      <td>4.0</td>\n",
       "      <td>7.0</td>\n",
       "      <td>7.0</td>\n",
       "      <td>0.0</td>\n",
       "      <td>0.0</td>\n",
       "      <td>0.0</td>\n",
       "      <td>0.0</td>\n",
       "      <td>...</td>\n",
       "      <td>0.0</td>\n",
       "      <td>0.70</td>\n",
       "      <td>0.73</td>\n",
       "      <td>0.0</td>\n",
       "      <td>0</td>\n",
       "      <td>0</td>\n",
       "      <td>0</td>\n",
       "      <td>0</td>\n",
       "      <td>1</td>\n",
       "      <td>0</td>\n",
       "    </tr>\n",
       "    <tr>\n",
       "      <td>3</td>\n",
       "      <td>7.0</td>\n",
       "      <td>8.0</td>\n",
       "      <td>0.0</td>\n",
       "      <td>11.0</td>\n",
       "      <td>27.0</td>\n",
       "      <td>47.0</td>\n",
       "      <td>2.0</td>\n",
       "      <td>2.0</td>\n",
       "      <td>2.0</td>\n",
       "      <td>2.0</td>\n",
       "      <td>...</td>\n",
       "      <td>0.0</td>\n",
       "      <td>0.70</td>\n",
       "      <td>0.73</td>\n",
       "      <td>0.0</td>\n",
       "      <td>0</td>\n",
       "      <td>0</td>\n",
       "      <td>0</td>\n",
       "      <td>0</td>\n",
       "      <td>1</td>\n",
       "      <td>0</td>\n",
       "    </tr>\n",
       "    <tr>\n",
       "      <td>4</td>\n",
       "      <td>0.0</td>\n",
       "      <td>8.0</td>\n",
       "      <td>0.0</td>\n",
       "      <td>9.0</td>\n",
       "      <td>14.0</td>\n",
       "      <td>16.0</td>\n",
       "      <td>0.0</td>\n",
       "      <td>0.0</td>\n",
       "      <td>0.0</td>\n",
       "      <td>0.0</td>\n",
       "      <td>...</td>\n",
       "      <td>0.0</td>\n",
       "      <td>0.95</td>\n",
       "      <td>0.94</td>\n",
       "      <td>0.0</td>\n",
       "      <td>0</td>\n",
       "      <td>0</td>\n",
       "      <td>0</td>\n",
       "      <td>0</td>\n",
       "      <td>1</td>\n",
       "      <td>0</td>\n",
       "    </tr>\n",
       "  </tbody>\n",
       "</table>\n",
       "<p>5 rows × 21 columns</p>\n",
       "</div>"
      ],
      "text/plain": [
       "   national_inv  lead_time  in_transit_qty  forecast_3_month  \\\n",
       "0           0.0        8.0             0.0               0.0   \n",
       "1           6.0        8.0             0.0               0.0   \n",
       "2           0.0        2.0             0.0               4.0   \n",
       "3           7.0        8.0             0.0              11.0   \n",
       "4           0.0        8.0             0.0               9.0   \n",
       "\n",
       "   forecast_6_month  forecast_9_month  sales_1_month  sales_3_month  \\\n",
       "0               0.0               0.0            0.0            0.0   \n",
       "1               0.0               0.0            0.0            0.0   \n",
       "2               7.0               7.0            0.0            0.0   \n",
       "3              27.0              47.0            2.0            2.0   \n",
       "4              14.0              16.0            0.0            0.0   \n",
       "\n",
       "   sales_6_month  sales_9_month  ...  pieces_past_due  perf_6_month_avg  \\\n",
       "0            0.0            0.0  ...              0.0            -99.00   \n",
       "1            0.0            0.0  ...              0.0            -99.00   \n",
       "2            0.0            0.0  ...              0.0              0.70   \n",
       "3            2.0            2.0  ...              0.0              0.70   \n",
       "4            0.0            0.0  ...              0.0              0.95   \n",
       "\n",
       "   perf_12_month_avg  local_bo_qty  potential_issue_Yes  deck_risk_Yes  \\\n",
       "0             -99.00           0.0                    0              0   \n",
       "1             -99.00           0.0                    0              0   \n",
       "2               0.73           0.0                    0              0   \n",
       "3               0.73           0.0                    0              0   \n",
       "4               0.94           0.0                    0              0   \n",
       "\n",
       "   oe_constraint_Yes  ppap_risk_Yes  stop_auto_buy_Yes  rev_stop_Yes  \n",
       "0                  0              0                  1             0  \n",
       "1                  0              0                  1             0  \n",
       "2                  0              0                  1             0  \n",
       "3                  0              0                  1             0  \n",
       "4                  0              0                  1             0  \n",
       "\n",
       "[5 rows x 21 columns]"
      ]
     },
     "execution_count": 22,
     "metadata": {},
     "output_type": "execute_result"
    }
   ],
   "source": [
    "X_inputs.head()"
   ]
  },
  {
   "cell_type": "code",
   "execution_count": 24,
   "metadata": {},
   "outputs": [],
   "source": [
    "# doing normalization\n",
    "from sklearn.preprocessing import StandardScaler\n",
    "scaler=StandardScaler()\n",
    "X_scale=scaler.fit_transform(X_inputs)"
   ]
  },
  {
   "cell_type": "code",
   "execution_count": 31,
   "metadata": {},
   "outputs": [
    {
     "data": {
      "text/plain": [
       "array([[-0.07388312,  0.14906536, -0.08545455, ..., -0.38081271,\n",
       "         0.2178637 , -0.03371522],\n",
       "       [-0.07262749,  0.14906536, -0.08545455, ..., -0.38081271,\n",
       "         0.2178637 , -0.03371522],\n",
       "       [-0.07388312, -0.96395602, -0.08545455, ..., -0.38081271,\n",
       "         0.2178637 , -0.03371522],\n",
       "       ...,\n",
       "       [-0.04667791,  0.14906536, -0.01238421, ..., -0.38081271,\n",
       "         0.2178637 , -0.03371522],\n",
       "       [-0.07534802,  0.14906536, -0.08545455, ..., -0.38081271,\n",
       "         0.2178637 , -0.03371522],\n",
       "       [-0.07388312, -0.96395602, -0.08545455, ...,  2.62596278,\n",
       "         0.2178637 , -0.03371522]])"
      ]
     },
     "execution_count": 31,
     "metadata": {},
     "output_type": "execute_result"
    }
   ],
   "source": [
    "X_scale"
   ]
  },
  {
   "cell_type": "code",
   "execution_count": 32,
   "metadata": {},
   "outputs": [],
   "source": [
    "# cheacking the coreelation\n",
    "from statsmodels.stats.outliers_influence import variance_inflation_factor\n",
    "variable=X_scale\n",
    "vif=pd.DataFrame()\n",
    "vif['VIF']=[variance_inflation_factor(variable,i) for i in range(variable.shape[1])]\n",
    "vif['features']=X_inputs.columns\n"
   ]
  },
  {
   "cell_type": "code",
   "execution_count": 33,
   "metadata": {},
   "outputs": [
    {
     "data": {
      "text/html": [
       "<div>\n",
       "<style scoped>\n",
       "    .dataframe tbody tr th:only-of-type {\n",
       "        vertical-align: middle;\n",
       "    }\n",
       "\n",
       "    .dataframe tbody tr th {\n",
       "        vertical-align: top;\n",
       "    }\n",
       "\n",
       "    .dataframe thead th {\n",
       "        text-align: right;\n",
       "    }\n",
       "</style>\n",
       "<table border=\"1\" class=\"dataframe\">\n",
       "  <thead>\n",
       "    <tr style=\"text-align: right;\">\n",
       "      <th></th>\n",
       "      <th>VIF</th>\n",
       "      <th>features</th>\n",
       "    </tr>\n",
       "  </thead>\n",
       "  <tbody>\n",
       "    <tr>\n",
       "      <td>0</td>\n",
       "      <td>5.435949</td>\n",
       "      <td>national_inv</td>\n",
       "    </tr>\n",
       "    <tr>\n",
       "      <td>1</td>\n",
       "      <td>1.038167</td>\n",
       "      <td>lead_time</td>\n",
       "    </tr>\n",
       "    <tr>\n",
       "      <td>2</td>\n",
       "      <td>1.789883</td>\n",
       "      <td>in_transit_qty</td>\n",
       "    </tr>\n",
       "    <tr>\n",
       "      <td>3</td>\n",
       "      <td>701.922723</td>\n",
       "      <td>forecast_3_month</td>\n",
       "    </tr>\n",
       "    <tr>\n",
       "      <td>4</td>\n",
       "      <td>7084.289916</td>\n",
       "      <td>forecast_6_month</td>\n",
       "    </tr>\n",
       "    <tr>\n",
       "      <td>5</td>\n",
       "      <td>5841.248426</td>\n",
       "      <td>forecast_9_month</td>\n",
       "    </tr>\n",
       "    <tr>\n",
       "      <td>6</td>\n",
       "      <td>363.813391</td>\n",
       "      <td>sales_1_month</td>\n",
       "    </tr>\n",
       "    <tr>\n",
       "      <td>7</td>\n",
       "      <td>2086.348643</td>\n",
       "      <td>sales_3_month</td>\n",
       "    </tr>\n",
       "    <tr>\n",
       "      <td>8</td>\n",
       "      <td>7545.087526</td>\n",
       "      <td>sales_6_month</td>\n",
       "    </tr>\n",
       "    <tr>\n",
       "      <td>9</td>\n",
       "      <td>4313.476391</td>\n",
       "      <td>sales_9_month</td>\n",
       "    </tr>\n",
       "    <tr>\n",
       "      <td>10</td>\n",
       "      <td>58.300711</td>\n",
       "      <td>min_bank</td>\n",
       "    </tr>\n",
       "    <tr>\n",
       "      <td>11</td>\n",
       "      <td>12.918036</td>\n",
       "      <td>pieces_past_due</td>\n",
       "    </tr>\n",
       "    <tr>\n",
       "      <td>12</td>\n",
       "      <td>40.008192</td>\n",
       "      <td>perf_6_month_avg</td>\n",
       "    </tr>\n",
       "    <tr>\n",
       "      <td>13</td>\n",
       "      <td>39.976665</td>\n",
       "      <td>perf_12_month_avg</td>\n",
       "    </tr>\n",
       "    <tr>\n",
       "      <td>14</td>\n",
       "      <td>1.224398</td>\n",
       "      <td>local_bo_qty</td>\n",
       "    </tr>\n",
       "    <tr>\n",
       "      <td>15</td>\n",
       "      <td>1.002381</td>\n",
       "      <td>potential_issue_Yes</td>\n",
       "    </tr>\n",
       "    <tr>\n",
       "      <td>16</td>\n",
       "      <td>1.087035</td>\n",
       "      <td>deck_risk_Yes</td>\n",
       "    </tr>\n",
       "    <tr>\n",
       "      <td>17</td>\n",
       "      <td>1.002042</td>\n",
       "      <td>oe_constraint_Yes</td>\n",
       "    </tr>\n",
       "    <tr>\n",
       "      <td>18</td>\n",
       "      <td>1.010925</td>\n",
       "      <td>ppap_risk_Yes</td>\n",
       "    </tr>\n",
       "    <tr>\n",
       "      <td>19</td>\n",
       "      <td>1.121334</td>\n",
       "      <td>stop_auto_buy_Yes</td>\n",
       "    </tr>\n",
       "    <tr>\n",
       "      <td>20</td>\n",
       "      <td>1.007481</td>\n",
       "      <td>rev_stop_Yes</td>\n",
       "    </tr>\n",
       "  </tbody>\n",
       "</table>\n",
       "</div>"
      ],
      "text/plain": [
       "            VIF             features\n",
       "0      5.435949         national_inv\n",
       "1      1.038167            lead_time\n",
       "2      1.789883       in_transit_qty\n",
       "3    701.922723     forecast_3_month\n",
       "4   7084.289916     forecast_6_month\n",
       "5   5841.248426     forecast_9_month\n",
       "6    363.813391        sales_1_month\n",
       "7   2086.348643        sales_3_month\n",
       "8   7545.087526        sales_6_month\n",
       "9   4313.476391        sales_9_month\n",
       "10    58.300711             min_bank\n",
       "11    12.918036      pieces_past_due\n",
       "12    40.008192     perf_6_month_avg\n",
       "13    39.976665    perf_12_month_avg\n",
       "14     1.224398         local_bo_qty\n",
       "15     1.002381  potential_issue_Yes\n",
       "16     1.087035        deck_risk_Yes\n",
       "17     1.002042    oe_constraint_Yes\n",
       "18     1.010925        ppap_risk_Yes\n",
       "19     1.121334    stop_auto_buy_Yes\n",
       "20     1.007481         rev_stop_Yes"
      ]
     },
     "execution_count": 33,
     "metadata": {},
     "output_type": "execute_result"
    }
   ],
   "source": [
    "vif"
   ]
  },
  {
   "cell_type": "markdown",
   "metadata": {},
   "source": [
    "vif value shoud not more than 5"
   ]
  },
  {
   "cell_type": "code",
   "execution_count": 41,
   "metadata": {},
   "outputs": [
    {
     "data": {
      "text/plain": [
       "Text(0.5, 1.0, 'Explained Variance')"
      ]
     },
     "execution_count": 41,
     "metadata": {},
     "output_type": "execute_result"
    },
    {
     "data": {
      "image/png": "[encoded data removed]",
      "text/plain": [
       "<Figure size 432x288 with 1 Axes>"
      ]
     },
     "metadata": {
      "needs_background": "light"
     },
     "output_type": "display_data"
    }
   ],
   "source": [
    "# performing pca\n",
    "from sklearn.decomposition import PCA\n",
    "pca=PCA()\n",
    "compo=pca.fit_transform(X_scale)\n",
    "plt.figure()\n",
    "plt.plot(np.cumsum(pca.explained_variance_ratio_))\n",
    "plt.xlabel('Number of Components')\n",
    "plt.ylabel('Variance (%)') #for each component\n",
    "plot.title('Explained Variance')\n"
   ]
  },
  {
   "cell_type": "markdown",
   "metadata": {},
   "source": [
    "we can see there not changein variance after 11 componants"
   ]
  },
  {
   "cell_type": "code",
   "execution_count": 43,
   "metadata": {},
   "outputs": [],
   "source": [
    "# taking only 11 componanat\n",
    "pca=PCA(11)\n",
    "principal_comp=pca.fit_transform(X_scale)\n",
    "X_new=pd.DataFrame(principal_comp,columns=['PC-1','PC-2','PC-3','PC-4','PC-5','PC-6','PC-7','PC-8','PC-9','PC-10','PC-11'])\n"
   ]
  },
  {
   "cell_type": "code",
   "execution_count": 44,
   "metadata": {},
   "outputs": [
    {
     "data": {
      "text/html": [
       "<div>\n",
       "<style scoped>\n",
       "    .dataframe tbody tr th:only-of-type {\n",
       "        vertical-align: middle;\n",
       "    }\n",
       "\n",
       "    .dataframe tbody tr th {\n",
       "        vertical-align: top;\n",
       "    }\n",
       "\n",
       "    .dataframe thead th {\n",
       "        text-align: right;\n",
       "    }\n",
       "</style>\n",
       "<table border=\"1\" class=\"dataframe\">\n",
       "  <thead>\n",
       "    <tr style=\"text-align: right;\">\n",
       "      <th></th>\n",
       "      <th>PC-1</th>\n",
       "      <th>PC-2</th>\n",
       "      <th>PC-3</th>\n",
       "      <th>PC-4</th>\n",
       "      <th>PC-5</th>\n",
       "      <th>PC-6</th>\n",
       "      <th>PC-7</th>\n",
       "      <th>PC-8</th>\n",
       "      <th>PC-9</th>\n",
       "      <th>PC-10</th>\n",
       "      <th>PC-11</th>\n",
       "    </tr>\n",
       "  </thead>\n",
       "  <tbody>\n",
       "    <tr>\n",
       "      <td>0</td>\n",
       "      <td>-0.170824</td>\n",
       "      <td>2.820473</td>\n",
       "      <td>-1.370426</td>\n",
       "      <td>-0.232497</td>\n",
       "      <td>0.206568</td>\n",
       "      <td>-0.284101</td>\n",
       "      <td>0.814427</td>\n",
       "      <td>-0.421360</td>\n",
       "      <td>-1.109213</td>\n",
       "      <td>0.133798</td>\n",
       "      <td>-0.062387</td>\n",
       "    </tr>\n",
       "    <tr>\n",
       "      <td>1</td>\n",
       "      <td>-0.170144</td>\n",
       "      <td>2.820489</td>\n",
       "      <td>-1.370427</td>\n",
       "      <td>-0.232514</td>\n",
       "      <td>0.206549</td>\n",
       "      <td>-0.284104</td>\n",
       "      <td>0.814416</td>\n",
       "      <td>-0.421380</td>\n",
       "      <td>-1.109226</td>\n",
       "      <td>0.133796</td>\n",
       "      <td>-0.062347</td>\n",
       "    </tr>\n",
       "    <tr>\n",
       "      <td>2</td>\n",
       "      <td>-0.132685</td>\n",
       "      <td>-0.891531</td>\n",
       "      <td>-0.676679</td>\n",
       "      <td>0.133068</td>\n",
       "      <td>-0.143596</td>\n",
       "      <td>-0.069085</td>\n",
       "      <td>0.289671</td>\n",
       "      <td>-0.058624</td>\n",
       "      <td>0.246767</td>\n",
       "      <td>-0.503353</td>\n",
       "      <td>-0.146139</td>\n",
       "    </tr>\n",
       "    <tr>\n",
       "      <td>3</td>\n",
       "      <td>-0.133071</td>\n",
       "      <td>-0.739009</td>\n",
       "      <td>-0.014035</td>\n",
       "      <td>-0.365499</td>\n",
       "      <td>0.096557</td>\n",
       "      <td>-0.103107</td>\n",
       "      <td>0.155998</td>\n",
       "      <td>-0.237321</td>\n",
       "      <td>-0.145967</td>\n",
       "      <td>0.008490</td>\n",
       "      <td>-0.093221</td>\n",
       "    </tr>\n",
       "    <tr>\n",
       "      <td>4</td>\n",
       "      <td>-0.134088</td>\n",
       "      <td>-0.747246</td>\n",
       "      <td>-0.010909</td>\n",
       "      <td>-0.365785</td>\n",
       "      <td>0.096324</td>\n",
       "      <td>-0.102678</td>\n",
       "      <td>0.154500</td>\n",
       "      <td>-0.236880</td>\n",
       "      <td>-0.143745</td>\n",
       "      <td>0.008175</td>\n",
       "      <td>-0.093161</td>\n",
       "    </tr>\n",
       "  </tbody>\n",
       "</table>\n",
       "</div>"
      ],
      "text/plain": [
       "       PC-1      PC-2      PC-3      PC-4      PC-5      PC-6      PC-7  \\\n",
       "0 -0.170824  2.820473 -1.370426 -0.232497  0.206568 -0.284101  0.814427   \n",
       "1 -0.170144  2.820489 -1.370427 -0.232514  0.206549 -0.284104  0.814416   \n",
       "2 -0.132685 -0.891531 -0.676679  0.133068 -0.143596 -0.069085  0.289671   \n",
       "3 -0.133071 -0.739009 -0.014035 -0.365499  0.096557 -0.103107  0.155998   \n",
       "4 -0.134088 -0.747246 -0.010909 -0.365785  0.096324 -0.102678  0.154500   \n",
       "\n",
       "       PC-8      PC-9     PC-10     PC-11  \n",
       "0 -0.421360 -1.109213  0.133798 -0.062387  \n",
       "1 -0.421380 -1.109226  0.133796 -0.062347  \n",
       "2 -0.058624  0.246767 -0.503353 -0.146139  \n",
       "3 -0.237321 -0.145967  0.008490 -0.093221  \n",
       "4 -0.236880 -0.143745  0.008175 -0.093161  "
      ]
     },
     "execution_count": 44,
     "metadata": {},
     "output_type": "execute_result"
    }
   ],
   "source": [
    "X_new.head()"
   ]
  },
  {
   "cell_type": "code",
   "execution_count": 45,
   "metadata": {},
   "outputs": [],
   "source": [
    "# cheacking the colinearity\n",
    "variables=X_new.values\n",
    "vif1=pd.DataFrame()\n",
    "vif1['VIF']=[variance_inflation_factor(variables,i) for i in range(variables.shape[1])]\n",
    "vif1['features']=X_new.columns"
   ]
  },
  {
   "cell_type": "code",
   "execution_count": 46,
   "metadata": {},
   "outputs": [
    {
     "data": {
      "text/html": [
       "<div>\n",
       "<style scoped>\n",
       "    .dataframe tbody tr th:only-of-type {\n",
       "        vertical-align: middle;\n",
       "    }\n",
       "\n",
       "    .dataframe tbody tr th {\n",
       "        vertical-align: top;\n",
       "    }\n",
       "\n",
       "    .dataframe thead th {\n",
       "        text-align: right;\n",
       "    }\n",
       "</style>\n",
       "<table border=\"1\" class=\"dataframe\">\n",
       "  <thead>\n",
       "    <tr style=\"text-align: right;\">\n",
       "      <th></th>\n",
       "      <th>VIF</th>\n",
       "      <th>features</th>\n",
       "    </tr>\n",
       "  </thead>\n",
       "  <tbody>\n",
       "    <tr>\n",
       "      <td>0</td>\n",
       "      <td>1.0</td>\n",
       "      <td>PC-1</td>\n",
       "    </tr>\n",
       "    <tr>\n",
       "      <td>1</td>\n",
       "      <td>1.0</td>\n",
       "      <td>PC-2</td>\n",
       "    </tr>\n",
       "    <tr>\n",
       "      <td>2</td>\n",
       "      <td>1.0</td>\n",
       "      <td>PC-3</td>\n",
       "    </tr>\n",
       "    <tr>\n",
       "      <td>3</td>\n",
       "      <td>1.0</td>\n",
       "      <td>PC-4</td>\n",
       "    </tr>\n",
       "    <tr>\n",
       "      <td>4</td>\n",
       "      <td>1.0</td>\n",
       "      <td>PC-5</td>\n",
       "    </tr>\n",
       "    <tr>\n",
       "      <td>5</td>\n",
       "      <td>1.0</td>\n",
       "      <td>PC-6</td>\n",
       "    </tr>\n",
       "    <tr>\n",
       "      <td>6</td>\n",
       "      <td>1.0</td>\n",
       "      <td>PC-7</td>\n",
       "    </tr>\n",
       "    <tr>\n",
       "      <td>7</td>\n",
       "      <td>1.0</td>\n",
       "      <td>PC-8</td>\n",
       "    </tr>\n",
       "    <tr>\n",
       "      <td>8</td>\n",
       "      <td>1.0</td>\n",
       "      <td>PC-9</td>\n",
       "    </tr>\n",
       "    <tr>\n",
       "      <td>9</td>\n",
       "      <td>1.0</td>\n",
       "      <td>PC-10</td>\n",
       "    </tr>\n",
       "    <tr>\n",
       "      <td>10</td>\n",
       "      <td>1.0</td>\n",
       "      <td>PC-11</td>\n",
       "    </tr>\n",
       "  </tbody>\n",
       "</table>\n",
       "</div>"
      ],
      "text/plain": [
       "    VIF features\n",
       "0   1.0     PC-1\n",
       "1   1.0     PC-2\n",
       "2   1.0     PC-3\n",
       "3   1.0     PC-4\n",
       "4   1.0     PC-5\n",
       "5   1.0     PC-6\n",
       "6   1.0     PC-7\n",
       "7   1.0     PC-8\n",
       "8   1.0     PC-9\n",
       "9   1.0    PC-10\n",
       "10  1.0    PC-11"
      ]
     },
     "execution_count": 46,
     "metadata": {},
     "output_type": "execute_result"
    }
   ],
   "source": [
    "vif1"
   ]
  },
  {
   "cell_type": "code",
   "execution_count": 72,
   "metadata": {},
   "outputs": [
    {
     "data": {
      "text/plain": [
       "No     7000\n",
       "Yes    2688\n",
       "Name: went_on_backorder, dtype: int64"
      ]
     },
     "execution_count": 72,
     "metadata": {},
     "output_type": "execute_result"
    }
   ],
   "source": [
    "# cheacking balace inbalance data\n",
    "y.value_counts()"
   ]
  },
  {
   "cell_type": "markdown",
   "metadata": {},
   "source": [
    "Looks like balace data"
   ]
  },
  {
   "cell_type": "code",
   "execution_count": 73,
   "metadata": {},
   "outputs": [],
   "source": [
    "# now we willl splite the data\n",
    "from sklearn.model_selection import train_test_split\n",
    "xtrain,xtest,ytrain,ytest=train_test_split(X_new,y,test_size=0.20,random_state=42)"
   ]
  },
  {
   "cell_type": "code",
   "execution_count": 76,
   "metadata": {},
   "outputs": [
    {
     "data": {
      "text/plain": [
       "RandomForestClassifier()"
      ]
     },
     "execution_count": 76,
     "metadata": {},
     "output_type": "execute_result"
    }
   ],
   "source": [
    "from sklearn.ensemble import RandomForestClassifier\n",
    "\n",
    "from sklearn.linear_model import LogisticRegression\n",
    "rf = RandomForestClassifier()\n",
    "\n",
    "rf.fit(xtrain,ytrain)"
   ]
  },
  {
   "cell_type": "code",
   "execution_count": 78,
   "metadata": {},
   "outputs": [
    {
     "data": {
      "text/plain": [
       "0.9966451612903225"
      ]
     },
     "execution_count": 78,
     "metadata": {},
     "output_type": "execute_result"
    }
   ],
   "source": [
    "rf.score(xtrain,ytrain)"
   ]
  },
  {
   "cell_type": "code",
   "execution_count": 79,
   "metadata": {},
   "outputs": [
    {
     "data": {
      "text/plain": [
       "0.8116615067079463"
      ]
     },
     "execution_count": 79,
     "metadata": {},
     "output_type": "execute_result"
    }
   ],
   "source": [
    "rf.score(xtest,ytest)"
   ]
  },
  {
   "cell_type": "code",
   "execution_count": 80,
   "metadata": {},
   "outputs": [
    {
     "data": {
      "text/html": [
       "<div>\n",
       "<style scoped>\n",
       "    .dataframe tbody tr th:only-of-type {\n",
       "        vertical-align: middle;\n",
       "    }\n",
       "\n",
       "    .dataframe tbody tr th {\n",
       "        vertical-align: top;\n",
       "    }\n",
       "\n",
       "    .dataframe thead th {\n",
       "        text-align: right;\n",
       "    }\n",
       "</style>\n",
       "<table border=\"1\" class=\"dataframe\">\n",
       "  <thead>\n",
       "    <tr style=\"text-align: right;\">\n",
       "      <th></th>\n",
       "      <th>0</th>\n",
       "    </tr>\n",
       "  </thead>\n",
       "  <tbody>\n",
       "    <tr>\n",
       "      <td>0.102120</td>\n",
       "      <td>PC-1</td>\n",
       "    </tr>\n",
       "    <tr>\n",
       "      <td>0.080616</td>\n",
       "      <td>PC-2</td>\n",
       "    </tr>\n",
       "    <tr>\n",
       "      <td>0.069951</td>\n",
       "      <td>PC-3</td>\n",
       "    </tr>\n",
       "    <tr>\n",
       "      <td>0.082677</td>\n",
       "      <td>PC-4</td>\n",
       "    </tr>\n",
       "    <tr>\n",
       "      <td>0.083248</td>\n",
       "      <td>PC-5</td>\n",
       "    </tr>\n",
       "    <tr>\n",
       "      <td>0.070313</td>\n",
       "      <td>PC-6</td>\n",
       "    </tr>\n",
       "    <tr>\n",
       "      <td>0.059226</td>\n",
       "      <td>PC-7</td>\n",
       "    </tr>\n",
       "    <tr>\n",
       "      <td>0.088675</td>\n",
       "      <td>PC-8</td>\n",
       "    </tr>\n",
       "    <tr>\n",
       "      <td>0.069039</td>\n",
       "      <td>PC-9</td>\n",
       "    </tr>\n",
       "    <tr>\n",
       "      <td>0.091233</td>\n",
       "      <td>PC-10</td>\n",
       "    </tr>\n",
       "    <tr>\n",
       "      <td>0.202903</td>\n",
       "      <td>PC-11</td>\n",
       "    </tr>\n",
       "  </tbody>\n",
       "</table>\n",
       "</div>"
      ],
      "text/plain": [
       "              0\n",
       "0.102120   PC-1\n",
       "0.080616   PC-2\n",
       "0.069951   PC-3\n",
       "0.082677   PC-4\n",
       "0.083248   PC-5\n",
       "0.070313   PC-6\n",
       "0.059226   PC-7\n",
       "0.088675   PC-8\n",
       "0.069039   PC-9\n",
       "0.091233  PC-10\n",
       "0.202903  PC-11"
      ]
     },
     "execution_count": 80,
     "metadata": {},
     "output_type": "execute_result"
    }
   ],
   "source": [
    "pd.DataFrame(X_new.columns,(rf.feature_importances_))"
   ]
  },
  {
   "cell_type": "code",
   "execution_count": 81,
   "metadata": {},
   "outputs": [
    {
     "data": {
      "text/plain": [
       "0.7230967741935483"
      ]
     },
     "execution_count": 81,
     "metadata": {},
     "output_type": "execute_result"
    }
   ],
   "source": [
    "# cheacking for logistice regression\n",
    "lr.fit(xtrain,ytrain)\n",
    "lr.score(xtrain,ytrain)\n"
   ]
  },
  {
   "cell_type": "code",
   "execution_count": 82,
   "metadata": {},
   "outputs": [
    {
     "data": {
      "text/plain": [
       "0.7223942208462333"
      ]
     },
     "execution_count": 82,
     "metadata": {},
     "output_type": "execute_result"
    }
   ],
   "source": [
    "lr.score(xtest,ytest)"
   ]
  },
  {
   "cell_type": "code",
   "execution_count": 85,
   "metadata": {},
   "outputs": [
    {
     "data": {
      "text/plain": [
       "<sklearn.metrics._plot.confusion_matrix.ConfusionMatrixDisplay at 0x163d62d5a48>"
      ]
     },
     "execution_count": 85,
     "metadata": {},
     "output_type": "execute_result"
    },
    {
     "data": {
      "image/png": "[encoded data removed]",
      "text/plain": [
       "<Figure size 432x288 with 2 Axes>"
      ]
     },
     "metadata": {
      "needs_background": "light"
     },
     "output_type": "display_data"
    }
   ],
   "source": [
    "from sklearn.metrics import plot_confusion_matrix\n",
    "plot_confusion_matrix(rf,xtest,ytest,values_format='d',display_labels=['Yes','No'])"
   ]
  },
  {
   "cell_type": "code",
   "execution_count": 94,
   "metadata": {},
   "outputs": [],
   "source": [
    "# parameter tunning\n",
    "from sklearn.model_selection import GridSearchCV\n",
    "grid=GridSearchCV(rf,{'max_depth': [3,4,5,8,10,12],\n",
    "                      'n_estimators':[50,100,150,200],\n",
    "                       'criterion':['gini','entropy'],\n",
    "                      'min_samples_leaf' : range(1,5),\n",
    "                      'min_samples_split': range(2,5),\n",
    "                       'max_features' : ['auto','log2']},cv=3,n_jobs =-1,verbose = 3)"
   ]
  },
  {
   "cell_type": "code",
   "execution_count": 95,
   "metadata": {},
   "outputs": [
    {
     "name": "stdout",
     "output_type": "stream",
     "text": [
      "Fitting 3 folds for each of 1152 candidates, totalling 3456 fits\n"
     ]
    },
    {
     "name": "stderr",
     "output_type": "stream",
     "text": [
      "[Parallel(n_jobs=-1)]: Using backend LokyBackend with 4 concurrent workers.\n",
      "[Parallel(n_jobs=-1)]: Done  24 tasks      | elapsed:   34.1s\n",
      "[Parallel(n_jobs=-1)]: Done 120 tasks      | elapsed:  1.1min\n",
      "[Parallel(n_jobs=-1)]: Done 280 tasks      | elapsed:  2.0min\n",
      "[Parallel(n_jobs=-1)]: Done 504 tasks      | elapsed:  3.5min\n",
      "[Parallel(n_jobs=-1)]: Done 792 tasks      | elapsed:  5.6min\n",
      "[Parallel(n_jobs=-1)]: Done 1144 tasks      | elapsed:  9.1min\n",
      "[Parallel(n_jobs=-1)]: Done 1560 tasks      | elapsed: 14.0min\n",
      "[Parallel(n_jobs=-1)]: Done 2040 tasks      | elapsed: 18.7min\n",
      "[Parallel(n_jobs=-1)]: Done 2584 tasks      | elapsed: 24.6min\n",
      "[Parallel(n_jobs=-1)]: Done 3192 tasks      | elapsed: 46.0min\n",
      "[Parallel(n_jobs=-1)]: Done 3456 out of 3456 | elapsed: 51.4min finished\n"
     ]
    },
    {
     "data": {
      "text/plain": [
       "GridSearchCV(cv=3, estimator=RandomForestClassifier(), n_jobs=-1,\n",
       "             param_grid={'criterion': ['gini', 'entropy'],\n",
       "                         'max_depth': [3, 4, 5, 8, 10, 12],\n",
       "                         'max_features': ['auto', 'log2'],\n",
       "                         'min_samples_leaf': range(1, 5),\n",
       "                         'min_samples_split': range(2, 5),\n",
       "                         'n_estimators': [50, 100, 150, 200]},\n",
       "             verbose=3)"
      ]
     },
     "execution_count": 95,
     "metadata": {},
     "output_type": "execute_result"
    }
   ],
   "source": [
    "grid.fit(xtrain,ytrain)"
   ]
  },
  {
   "cell_type": "code",
   "execution_count": 96,
   "metadata": {},
   "outputs": [
    {
     "name": "stdout",
     "output_type": "stream",
     "text": [
      "{'criterion': 'gini', 'max_depth': 12, 'max_features': 'auto', 'min_samples_leaf': 3, 'min_samples_split': 2, 'n_estimators': 50}\n"
     ]
    }
   ],
   "source": [
    "print(grid.best_params_)"
   ]
  },
  {
   "cell_type": "code",
   "execution_count": 99,
   "metadata": {},
   "outputs": [
    {
     "data": {
      "text/plain": [
       "0.9169032258064516"
      ]
     },
     "execution_count": 99,
     "metadata": {},
     "output_type": "execute_result"
    }
   ],
   "source": [
    "rf = RandomForestClassifier(criterion='gini',max_depth=12,max_features='auto',min_samples_leaf=3,min_samples_split=2,\n",
    "                        n_estimators=50   )\n",
    "\n",
    "rf.fit(xtrain,ytrain)\n",
    "rf.score(xtrain,ytrain)"
   ]
  },
  {
   "cell_type": "code",
   "execution_count": 104,
   "metadata": {},
   "outputs": [
    {
     "data": {
      "text/plain": [
       "81.94014447884416"
      ]
     },
     "execution_count": 104,
     "metadata": {},
     "output_type": "execute_result"
    }
   ],
   "source": [
    "rf.score(xtest,ytest)*float(100)"
   ]
  },
  {
   "cell_type": "code",
   "execution_count": 103,
   "metadata": {},
   "outputs": [
    {
     "data": {
      "text/plain": [
       "<sklearn.metrics._plot.confusion_matrix.ConfusionMatrixDisplay at 0x163d9333e48>"
      ]
     },
     "execution_count": 103,
     "metadata": {},
     "output_type": "execute_result"
    },
    {
     "data": {
      "image/png": "[encoded data removed]",
      "text/plain": [
       "<Figure size 432x288 with 2 Axes>"
      ]
     },
     "metadata": {
      "needs_background": "light"
     },
     "output_type": "display_data"
    }
   ],
   "source": [
    "from sklearn.metrics import plot_confusion_matrix\n",
    "plot_confusion_matrix(rf,xtest,ytest,values_format='d',display_labels=['Yes','No'])"
   ]
  },
  {
   "cell_type": "code",
   "execution_count": 88,
   "metadata": {},
   "outputs": [
    {
     "name": "stdout",
     "output_type": "stream",
     "text": [
      "[0]\tvalidation_0-aucpr:0.50261\n",
      "Will train until validation_0-aucpr hasn't improved in 10 rounds.\n",
      "[1]\tvalidation_0-aucpr:0.52657\n",
      "[2]\tvalidation_0-aucpr:0.53859\n",
      "[3]\tvalidation_0-aucpr:0.55088\n",
      "[4]\tvalidation_0-aucpr:0.55489\n",
      "[5]\tvalidation_0-aucpr:0.55668\n",
      "[6]\tvalidation_0-aucpr:0.57117\n",
      "[7]\tvalidation_0-aucpr:0.57303\n",
      "[8]\tvalidation_0-aucpr:0.57757\n",
      "[9]\tvalidation_0-aucpr:0.58426\n",
      "[10]\tvalidation_0-aucpr:0.58544\n",
      "[11]\tvalidation_0-aucpr:0.59499\n",
      "[12]\tvalidation_0-aucpr:0.59789\n",
      "[13]\tvalidation_0-aucpr:0.60301\n",
      "[14]\tvalidation_0-aucpr:0.60836\n",
      "[15]\tvalidation_0-aucpr:0.60851\n",
      "[16]\tvalidation_0-aucpr:0.61280\n",
      "[17]\tvalidation_0-aucpr:0.61612\n",
      "[18]\tvalidation_0-aucpr:0.61359\n",
      "[19]\tvalidation_0-aucpr:0.61935\n",
      "[20]\tvalidation_0-aucpr:0.62553\n",
      "[21]\tvalidation_0-aucpr:0.62672\n",
      "[22]\tvalidation_0-aucpr:0.63238\n",
      "[23]\tvalidation_0-aucpr:0.63512\n",
      "[24]\tvalidation_0-aucpr:0.64248\n",
      "[25]\tvalidation_0-aucpr:0.64006\n",
      "[26]\tvalidation_0-aucpr:0.63943\n",
      "[27]\tvalidation_0-aucpr:0.64073\n",
      "[28]\tvalidation_0-aucpr:0.64070\n",
      "[29]\tvalidation_0-aucpr:0.64206\n",
      "[30]\tvalidation_0-aucpr:0.64066\n",
      "[31]\tvalidation_0-aucpr:0.63977\n",
      "[32]\tvalidation_0-aucpr:0.63725\n",
      "[33]\tvalidation_0-aucpr:0.63698\n",
      "[34]\tvalidation_0-aucpr:0.63627\n",
      "Stopping. Best iteration:\n",
      "[24]\tvalidation_0-aucpr:0.64248\n",
      "\n"
     ]
    },
    {
     "data": {
      "text/plain": [
       "XGBClassifier(base_score=0.5, booster='gbtree', colsample_bylevel=1,\n",
       "              colsample_bynode=1, colsample_bytree=1, gamma=0, gpu_id=-1,\n",
       "              importance_type='gain', interaction_constraints='',\n",
       "              learning_rate=0.3, max_delta_step=0, max_depth=3,\n",
       "              min_child_weight=0, missing=nan, monotone_constraints='()',\n",
       "              n_estimators=100, n_jobs=0, num_parallel_tree=1, random_state=42,\n",
       "              reg_alpha=0, reg_lambda=1, scale_pos_weight=1, seed=42,\n",
       "              subsample=1, tree_method='exact', validate_parameters=1,\n",
       "              verbosity=None)"
      ]
     },
     "execution_count": 88,
     "metadata": {},
     "output_type": "execute_result"
    }
   ],
   "source": [
    "from xgboost import XGBClassifier\n",
    "xgb=XGBClassifier(objective='binary:logistic',max_depth=3,gamma=0,learning_rate=0.3,seed=42,min_child_weight=0)\n",
    "xgb.fit(xtrain,ytrain,early_stopping_rounds=10,eval_metric='aucpr',eval_set=[(xtest,ytest)],verbose=True)"
   ]
  },
  {
   "cell_type": "code",
   "execution_count": 89,
   "metadata": {},
   "outputs": [
    {
     "data": {
      "text/plain": [
       "0.8132903225806452"
      ]
     },
     "execution_count": 89,
     "metadata": {},
     "output_type": "execute_result"
    }
   ],
   "source": [
    "xgb.score(xtrain,ytrain)"
   ]
  },
  {
   "cell_type": "code",
   "execution_count": 90,
   "metadata": {},
   "outputs": [
    {
     "data": {
      "text/plain": [
       "0.7930856553147575"
      ]
     },
     "execution_count": 90,
     "metadata": {},
     "output_type": "execute_result"
    }
   ],
   "source": [
    "xgb.score(xtest,ytest)"
   ]
  },
  {
   "cell_type": "code",
   "execution_count": 93,
   "metadata": {},
   "outputs": [
    {
     "data": {
      "text/plain": [
       "<sklearn.metrics._plot.confusion_matrix.ConfusionMatrixDisplay at 0x163d8143e48>"
      ]
     },
     "execution_count": 93,
     "metadata": {},
     "output_type": "execute_result"
    },
    {
     "data": {
      "image/png": "[encoded data removed]",
      "text/plain": [
       "<Figure size 432x288 with 2 Axes>"
      ]
     },
     "metadata": {
      "needs_background": "light"
     },
     "output_type": "display_data"
    }
   ],
   "source": [
    "# ploting confusion matrix\n",
    "plot_confusion_matrix(xgb,xtest,ytest,values_format='d',display_labels=['NO','Yes'])"
   ]
  },
  {
   "cell_type": "code",
   "execution_count": null,
   "metadata": {},
   "outputs": [],
   "source": []
  }
 ],
 "metadata": {
  "kernelspec": {
   "display_name": "Python 3",
   "language": "python",
   "name": "python3"
  },
  "language_info": {
   "codemirror_mode": {
    "name": "ipython",
    "version": 3
   },
   "file_extension": ".py",
   "mimetype": "text/x-python",
   "name": "python",
   "nbconvert_exporter": "python",
   "pygments_lexer": "ipython3",
   "version": "3.7.4"
  }
 },
 "nbformat": 4,
 "nbformat_minor": 2
}
